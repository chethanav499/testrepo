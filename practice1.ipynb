{
    "cells": [
        {
            "cell_type": "markdown",
            "metadata": {},
            "source": "\n__My Jupyter Notebook on IBM Watson Studio__\n"
        },
        {
            "cell_type": "markdown",
            "metadata": {},
            "source": "__Chethana V__\n\nAssistant Professor"
        },
        {
            "cell_type": "markdown",
            "metadata": {},
            "source": "*I am intrested in data science because i want to work on data science in a company*"
        },
        {
            "cell_type": "markdown",
            "metadata": {},
            "source": "### Addition of two numbers"
        },
        {
            "cell_type": "code",
            "execution_count": 5,
            "metadata": {},
            "outputs": [
                {
                    "name": "stdout",
                    "output_type": "stream",
                    "text": "30\n"
                }
            ],
            "source": "a=10\nb=20\nc=a+b\nprint(c)"
        },
        {
            "cell_type": "markdown",
            "metadata": {},
            "source": "[Introduction to jupyter notebook hyperlink](https://www.tutorialspoint.com/jupyter/jupyter_notebook_introduction.htm)"
        },
        {
            "cell_type": "markdown",
            "metadata": {},
            "source": "|name|age|marks|\n|----|---|-----|\n|kiran|21|165|\n|Teju|20|215"
        },
        {
            "cell_type": "markdown",
            "metadata": {},
            "source": "    1.one\n    2.two\n    3.three\n    4.four"
        },
        {
            "cell_type": "markdown",
            "metadata": {},
            "source": "\n---"
        },
        {
            "cell_type": "markdown",
            "metadata": {},
            "source": "~~the world is flat~~"
        },
        {
            "cell_type": "code",
            "execution_count": null,
            "metadata": {},
            "outputs": [],
            "source": ""
        }
    ],
    "metadata": {
        "kernelspec": {
            "display_name": "Python 3.7",
            "language": "python",
            "name": "python3"
        },
        "language_info": {
            "codemirror_mode": {
                "name": "ipython",
                "version": 3
            },
            "file_extension": ".py",
            "mimetype": "text/x-python",
            "name": "python",
            "nbconvert_exporter": "python",
            "pygments_lexer": "ipython3",
            "version": "3.7.11"
        }
    },
    "nbformat": 4,
    "nbformat_minor": 1
}